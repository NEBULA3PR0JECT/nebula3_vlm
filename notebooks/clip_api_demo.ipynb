{
 "cells": [
  {
   "cell_type": "code",
   "execution_count": null,
   "id": "5736c49b-659d-4560-93c7-9809d2842f22",
   "metadata": {},
   "outputs": [],
   "source": [
    "import sys\n",
    "sys.path.insert(0, \"/notebooks/nebula3_database\")\n",
    "sys.path.insert(0, \"/notebooks\")\n",
    "from vlm.clip_api import CLIP_API"
   ]
  },
  {
   "cell_type": "code",
   "execution_count": null,
   "id": "507f1b5f-775d-4a90-aa99-87de612a495a",
   "metadata": {},
   "outputs": [],
   "source": [
    " clip = CLIP_API('vit')"
   ]
  },
  {
   "cell_type": "code",
   "execution_count": null,
   "id": "049a8ed5-3a6d-4fff-ab0e-4da5e96fdd00",
   "metadata": {},
   "outputs": [],
   "source": [
    " vectors = clip.clip_encode_text(\"test\")"
   ]
  },
  {
   "cell_type": "code",
   "execution_count": null,
   "id": "bc4b68e9-f875-49c9-b6c8-2c1c1a9eeefb",
   "metadata": {},
   "outputs": [],
   "source": [
    "print(vectors)"
   ]
  },
  {
   "cell_type": "code",
   "execution_count": null,
   "id": "594fa556-2046-40f2-88b7-62c5a61a76cf",
   "metadata": {},
   "outputs": [],
   "source": [
    "clip.clip_encode_video('Movies/114207668', 0)"
   ]
  },
  {
   "cell_type": "code",
   "execution_count": null,
   "id": "1e61eeb4-0686-4705-a78c-d31121a78628",
   "metadata": {},
   "outputs": [],
   "source": []
  }
 ],
 "metadata": {
  "kernelspec": {
   "display_name": "Python 3 (ipykernel)",
   "language": "python",
   "name": "python3"
  },
  "language_info": {
   "codemirror_mode": {
    "name": "ipython",
    "version": 3
   },
   "file_extension": ".py",
   "mimetype": "text/x-python",
   "name": "python",
   "nbconvert_exporter": "python",
   "pygments_lexer": "ipython3",
   "version": "3.10.2"
  }
 },
 "nbformat": 4,
 "nbformat_minor": 5
}
